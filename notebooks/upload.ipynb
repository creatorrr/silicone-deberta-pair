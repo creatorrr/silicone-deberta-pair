{
 "cells": [
  {
   "cell_type": "code",
   "execution_count": null,
   "id": "c2ba3533-adef-408e-bbc7-86e4a8c2fab6",
   "metadata": {},
   "outputs": [],
   "source": [
    "!pip install --upgrade transformers simpletransformers tensorflow numpy datasets pandas torch tables"
   ]
  },
  {
   "cell_type": "code",
   "execution_count": null,
   "id": "f1e4163c-2262-49ac-8fcb-d2a07f556005",
   "metadata": {},
   "outputs": [],
   "source": [
    "import numpy\n",
    "print(numpy.__version__)\n"
   ]
  },
  {
   "cell_type": "code",
   "execution_count": null,
   "id": "bd858bdf-a374-44f7-a1ba-0af59199dcc7",
   "metadata": {},
   "outputs": [],
   "source": [
    "import tensorflow as tf\n",
    "from transformers import TFDebertaForSequenceClassification\n",
    "\n",
    "from simpletransformers.classification import (\n",
    "    ClassificationModel, ClassificationArgs\n",
    ")\n",
    "\n",
    "model = ClassificationModel(\"deberta\", \"./outputs/best_model\")"
   ]
  },
  {
   "cell_type": "code",
   "execution_count": null,
   "id": "003eb2c1-df47-417c-8ca5-fd4558c060cf",
   "metadata": {},
   "outputs": [],
   "source": [
    "tf_model = TFDebertaForSequenceClassification.from_pretrained(\"./outputs/best_model\", from_pt=True)\n",
    "tf_model.save_pretrained(\"./outputs/best_model_tf\")"
   ]
  }
 ],
 "metadata": {
  "kernelspec": {
   "display_name": "Python 3 (ipykernel)",
   "language": "python",
   "name": "python3"
  },
  "language_info": {
   "codemirror_mode": {
    "name": "ipython",
    "version": 3
   },
   "file_extension": ".py",
   "mimetype": "text/x-python",
   "name": "python",
   "nbconvert_exporter": "python",
   "pygments_lexer": "ipython3",
   "version": "3.7.12"
  }
 },
 "nbformat": 4,
 "nbformat_minor": 5
}
